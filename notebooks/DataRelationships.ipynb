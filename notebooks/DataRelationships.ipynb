{
 "cells": [
  {
   "cell_type": "code",
   "execution_count": 1,
   "metadata": {},
   "outputs": [],
   "source": [
    "from neo4j import GraphDatabase, exceptions\n",
    "from decouple import config"
   ]
  },
  {
   "cell_type": "code",
   "execution_count": 2,
   "metadata": {},
   "outputs": [],
   "source": [
    "class CriarRelacionamentosNeo4j:\n",
    "\n",
    "    def __init__(self):\n",
    "        self.uri = config('NEO4J_URI')\n",
    "        self.user = config('NEO4J_USERNAME')\n",
    "        self.password = config('NEO4J_PASSWORD')\n",
    "        self._driver = GraphDatabase.driver(self.uri, auth=(self.user, self.password))\n",
    "\n",
    "    def close(self):\n",
    "        self._driver.close()\n",
    "\n",
    "    def create_relationships(self):\n",
    "        with self._driver.session() as session:\n",
    "            try:\n",
    "                # Relacionamento entre as tabelas Região e UF\n",
    "                session.run(\"\"\"\n",
    "                    MATCH (r:Regiao)\n",
    "                    MATCH (u:UF)\n",
    "                    CREATE (r)-[:LOCALIZADA_EM]->(u)\n",
    "                \"\"\")\n",
    "\n",
    "                # Relacionamento entre as tabelas UF e Município\n",
    "                session.run(\"\"\"\n",
    "                    MATCH (u:UF)\n",
    "                    MATCH (m:Municipio)\n",
    "                    CREATE (u)-[:POSSUI]->(m)\n",
    "                \"\"\")\n",
    "\n",
    "                # Relacionamento entre as tabelas Município e Beneficiário\n",
    "                session.run(\"\"\"\n",
    "                    MATCH (m:Municipio)\n",
    "                    MATCH (b:Beneficiario)\n",
    "                    CREATE (m)-[:RESIDE_EM]->(b)\n",
    "                \"\"\")\n",
    "\n",
    "                # Relacionamento entre as tabelas Beneficiário e IES\n",
    "                session.run(\"\"\"\n",
    "                    MATCH (b:Beneficiario)\n",
    "                    MATCH (i:IES)\n",
    "                    CREATE (b)-[:CURSA_NA]->(i)\n",
    "                \"\"\")\n",
    "\n",
    "                # Relacionamento entre as tabelas IES e Curso\n",
    "                session.run(\"\"\"\n",
    "                    MATCH (i:IES)\n",
    "                    MATCH (c:Curso)\n",
    "                    CREATE (i)-[:OFERECE]->(c)\n",
    "                \"\"\")\n",
    "\n",
    "                # Relacionamento entre as tabelas Bolsa, IES e Curso\n",
    "                session.run(\"\"\"\n",
    "                    MATCH (b:Bolsa)\n",
    "                    MATCH (i:IES)\n",
    "                    MATCH (c:Curso)\n",
    "                    CREATE (b)-[:VINCULADA_A]->(i)\n",
    "                    CREATE (b)-[:VINCULADA_A]->(c)\n",
    "                \"\"\")\n",
    "                \n",
    "                print(\"Relacionamentos criados com sucesso!\")\n",
    "\n",
    "            except exceptions.TransientError as e:\n",
    "                if \"MemoryPoolOutOfMemoryError\" in str(e):\n",
    "                    print(\"Erro: Limite de memória atingido. Tente novamente com uma carga de dados menor.\")\n",
    "                else:\n",
    "                    raise\n",
    "\n",
    "    def start(self):\n",
    "        self.create_relationships()\n"
   ]
  },
  {
   "cell_type": "code",
   "execution_count": 3,
   "metadata": {},
   "outputs": [
    {
     "name": "stdout",
     "output_type": "stream",
     "text": [
      "Erro: Limite de memória atingido. Tente novamente com uma carga de dados menor.\n"
     ]
    }
   ],
   "source": [
    "# Exemplo de uso:\n",
    "relacionamentos_neo4j = CriarRelacionamentosNeo4j()\n",
    "relacionamentos_neo4j.start()\n",
    "relacionamentos_neo4j.close()"
   ]
  }
 ],
 "metadata": {
  "kernelspec": {
   "display_name": "base-conda",
   "language": "python",
   "name": "python3"
  },
  "language_info": {
   "codemirror_mode": {
    "name": "ipython",
    "version": 3
   },
   "file_extension": ".py",
   "mimetype": "text/x-python",
   "name": "python",
   "nbconvert_exporter": "python",
   "pygments_lexer": "ipython3",
   "version": "3.10.12"
  }
 },
 "nbformat": 4,
 "nbformat_minor": 2
}
